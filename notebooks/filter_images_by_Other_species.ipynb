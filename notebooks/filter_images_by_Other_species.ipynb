{
 "cells": [
  {
   "cell_type": "code",
   "execution_count": null,
   "id": "51754aef-eb08-4326-9bee-d8b3b5c47b19",
   "metadata": {},
   "outputs": [],
   "source": [
    "import json\n",
    "import pandas as pd\n",
    "from pathlib import Path"
   ]
  },
  {
   "cell_type": "code",
   "execution_count": null,
   "id": "d11ec4ea-dcfb-4d06-8c27-e5b590fbd653",
   "metadata": {},
   "outputs": [],
   "source": [
    "df = pd.read_parquet('iNat data 14-Feb-24.parquet')\n",
    "len(df)"
   ]
  },
  {
   "cell_type": "code",
   "execution_count": null,
   "id": "fe065801-4241-4cef-a688-ddcd3e4b1ce2",
   "metadata": {},
   "outputs": [],
   "source": [
    "species = pd.read_csv(\"iNat data codes - 'Other' species.csv\")\n",
    "species['Species'] = species['Species'].str.split(',')"
   ]
  },
  {
   "cell_type": "code",
   "execution_count": null,
   "id": "8c45aad0-e7c2-4ee0-9c22-a213cba6d9c6",
   "metadata": {},
   "outputs": [],
   "source": [
    "species_names = []\n",
    "for x in species['Genus']:\n",
    "    for y in species[species['Genus'] == x]['Species']:\n",
    "        for z in y:\n",
    "            species_names.append(f'{x} {z}')\n",
    "species_names"
   ]
  },
  {
   "cell_type": "code",
   "execution_count": null,
   "id": "7347ad51-6727-43d5-81da-b34c06821c28",
   "metadata": {},
   "outputs": [],
   "source": [
    "df = df[(df['scientific_name'].isin(species_names)) & (~df['tracks'].isna())]\n",
    "len(df)"
   ]
  },
  {
   "cell_type": "code",
   "execution_count": null,
   "id": "2b40bb19-29bc-4598-9e50-e08ab584c478",
   "metadata": {},
   "outputs": [],
   "source": [
    "with open('project-5-at-2024-05-03-19-50-7bc08b6a.json') as j:\n",
    "    data = json.load(j)\n",
    "\n",
    "exclude = [Path(x['data']['image']).parent.name for x in data]\n",
    "len(exclude)"
   ]
  },
  {
   "cell_type": "code",
   "execution_count": null,
   "id": "5360b695-0db3-4391-be50-0d3e11f3f8f0",
   "metadata": {},
   "outputs": [],
   "source": [
    "# df['image_url'] = df['image_url'].apply(lambda x: Path(x).parent.stem if x else None)\n",
    "# len(df)"
   ]
  },
  {
   "cell_type": "code",
   "execution_count": null,
   "id": "0409cab9-24c9-4fa4-90a4-792192fd8078",
   "metadata": {},
   "outputs": [],
   "source": [
    "import_images = df[~df['image_url'].isin(exclude)]\n",
    "import_images"
   ]
  },
  {
   "cell_type": "code",
   "execution_count": null,
   "id": "be510205-e06d-4c7a-acd0-ce31b7d557ac",
   "metadata": {},
   "outputs": [],
   "source": [
    "import_images.rename(columns={'image_url': 'image', 'url': 'observation_url'}, inplace=True)"
   ]
  },
  {
   "cell_type": "code",
   "execution_count": null,
   "id": "4ba527f8-965b-493b-95e4-601afde59f3d",
   "metadata": {},
   "outputs": [],
   "source": [
    "import_images = import_images[['image', 'id', 'observation_url', 'scientific_name']]"
   ]
  },
  {
   "cell_type": "code",
   "execution_count": null,
   "id": "8c4d6f0a-0b65-4643-a9ad-f60c3b73d0f1",
   "metadata": {},
   "outputs": [],
   "source": [
    "import_images['image'] = import_images['image'].str.replace('https://static.inaturalist.org', 'https://inaturalist-open-data.s3.amazonaws.com')"
   ]
  },
  {
   "cell_type": "code",
   "execution_count": null,
   "id": "43269e2e-79da-4eea-aa87-75e676d37fc3",
   "metadata": {},
   "outputs": [],
   "source": [
    "import_images['image'] = import_images['image'].str.replace('medium', 'original')"
   ]
  },
  {
   "cell_type": "code",
   "execution_count": null,
   "id": "aaba2f8f-e962-4886-b813-e9b346d8944c",
   "metadata": {},
   "outputs": [],
   "source": [
    "import requests\n",
    "from tqdm import tqdm\n",
    "from multiprocessing import Pool, cpu_count\n",
    "\n",
    "def is_valid(url):\n",
    "    try:\n",
    "        response = requests.head(url)\n",
    "        return response.status_code == 200\n",
    "    except Exception as e:\n",
    "        print(f\"Error checking URL {url}: {e}\")\n",
    "        return False\n",
    "\n",
    "def check_url_parallel(url):\n",
    "    return is_valid(url)\n",
    "\n",
    "with Pool(cpu_count()) as p:\n",
    "    valid_mask = list(tqdm(p.imap(check_url_parallel, import_images['image']), total=len(import_images)))\n",
    "\n",
    "import_images = import_images[valid_mask]\n",
    "\n",
    "import_images.reset_index(drop=True, inplace=True)"
   ]
  },
  {
   "cell_type": "code",
   "execution_count": null,
   "id": "96ffcaa0-2593-4fff-a7d6-1ce86cd0ef63",
   "metadata": {},
   "outputs": [],
   "source": [
    "import_images.to_csv('import_images_filtered_to_other_signs.csv', index=False)"
   ]
  },
  {
   "cell_type": "code",
   "execution_count": null,
   "id": "12bc3160-20c4-4bc7-a06a-a874d6ddb204",
   "metadata": {},
   "outputs": [],
   "source": []
  }
 ],
 "metadata": {
  "kernelspec": {
   "display_name": "Python 3 (ipykernel)",
   "language": "python",
   "name": "python3"
  },
  "language_info": {
   "codemirror_mode": {
    "name": "ipython",
    "version": 3
   },
   "file_extension": ".py",
   "mimetype": "text/x-python",
   "name": "python",
   "nbconvert_exporter": "python",
   "pygments_lexer": "ipython3",
   "version": "3.12.8"
  }
 },
 "nbformat": 4,
 "nbformat_minor": 5
}
