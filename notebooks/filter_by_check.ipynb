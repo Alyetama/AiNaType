{
 "cells": [
  {
   "cell_type": "code",
   "execution_count": null,
   "id": "24ca0537-c404-42e9-8fc0-f5dffcfc484b",
   "metadata": {},
   "outputs": [],
   "source": [
    "from glob import glob\n",
    "import pandas as pd\n",
    "from tqdm import tqdm\n",
    "from pathlib import Path"
   ]
  },
  {
   "cell_type": "code",
   "execution_count": null,
   "id": "6f2f85a5-9fe9-450f-9ccc-a9ed4fca2a02",
   "metadata": {},
   "outputs": [],
   "source": [
    "images = []\n",
    "for x in ['scat', 'dead', 'tracks']:\n",
    "    images.extend(glob(f'dataset_by_classes/{x}/check/*'))"
   ]
  },
  {
   "cell_type": "code",
   "execution_count": null,
   "id": "298fbfbe-525b-4b4d-bb19-0f2423ea8c9c",
   "metadata": {},
   "outputs": [],
   "source": [
    "images = [Path(x).stem for x in images]"
   ]
  },
  {
   "cell_type": "code",
   "execution_count": null,
   "id": "a396abaf-9271-4b81-adfc-cf05ddf500a1",
   "metadata": {},
   "outputs": [],
   "source": [
    "len(images)"
   ]
  },
  {
   "cell_type": "code",
   "execution_count": null,
   "id": "4a5e9ec8-657f-4acf-9b9b-8f6b41ddf90c",
   "metadata": {},
   "outputs": [],
   "source": [
    "df = pd.read_parquet('data_filtered_by_license_with_signs.parquet')"
   ]
  },
  {
   "cell_type": "code",
   "execution_count": null,
   "id": "b3249c20-92d4-4e2c-8c80-91cfe5e56cb8",
   "metadata": {},
   "outputs": [],
   "source": [
    "signs_df = df[(df['tracks'] == 'Tracks') | (df['scat'] == 'Scat') | (df['dead'] == 'Dead') | (df['bone'] == 'Bone')]"
   ]
  },
  {
   "cell_type": "code",
   "execution_count": null,
   "id": "4997c5b1-95fa-4701-8291-b5c0ff0cdec7",
   "metadata": {},
   "outputs": [],
   "source": [
    "signs_df"
   ]
  },
  {
   "cell_type": "code",
   "execution_count": null,
   "id": "7e450a73-81c8-44bd-9047-3c071f2a5651",
   "metadata": {},
   "outputs": [],
   "source": [
    "check_df = signs_df[signs_df['image_url'].apply(lambda x: Path(x).parent.name).isin(images)]\n",
    "check_df"
   ]
  },
  {
   "cell_type": "code",
   "execution_count": null,
   "id": "bf7e351b-457c-4090-b1a8-65c7f9439c49",
   "metadata": {},
   "outputs": [],
   "source": [
    "check_df.rename(columns={'image_url': 'image', 'url': 'observation_url'}, inplace=True)"
   ]
  },
  {
   "cell_type": "code",
   "execution_count": null,
   "id": "f7182f22-6187-449c-959a-d76de2d9f05f",
   "metadata": {},
   "outputs": [],
   "source": [
    "check_df = check_df[['image', 'id', 'observation_url', 'scientific_name']]\n",
    "check_df"
   ]
  },
  {
   "cell_type": "code",
   "execution_count": null,
   "id": "c3a2de68-53ab-47a6-a971-6938809d7f9e",
   "metadata": {},
   "outputs": [],
   "source": [
    "check_df.to_csv('check_df_tasks.csv', index=False)"
   ]
  },
  {
   "cell_type": "code",
   "execution_count": null,
   "id": "7a106951-957f-4449-8310-6db3d735f0e8",
   "metadata": {},
   "outputs": [],
   "source": []
  }
 ],
 "metadata": {
  "kernelspec": {
   "display_name": "Python 3 (ipykernel)",
   "language": "python",
   "name": "python3"
  },
  "language_info": {
   "codemirror_mode": {
    "name": "ipython",
    "version": 3
   },
   "file_extension": ".py",
   "mimetype": "text/x-python",
   "name": "python",
   "nbconvert_exporter": "python",
   "pygments_lexer": "ipython3",
   "version": "3.12.8"
  }
 },
 "nbformat": 4,
 "nbformat_minor": 5
}
