{
 "cells": [
  {
   "cell_type": "code",
   "execution_count": null,
   "id": "60ecbb5d-2cc8-453d-8e11-490461c9f672",
   "metadata": {},
   "outputs": [],
   "source": [
    "import pandas as pd\n",
    "from pathlib import Path\n",
    "from glob import glob\n",
    "import shutil"
   ]
  },
  {
   "cell_type": "code",
   "execution_count": null,
   "id": "46356fcc-5f00-4333-a9e5-fbf2cd322954",
   "metadata": {},
   "outputs": [],
   "source": [
    "df = pd.read_parquet('photos.parquet')  # photo licenses file"
   ]
  },
  {
   "cell_type": "code",
   "execution_count": null,
   "id": "e63e4c02-261b-4dc8-9fd6-8b1835e6e681",
   "metadata": {},
   "outputs": [],
   "source": [
    "photo_ids = df.photo_id.tolist()"
   ]
  },
  {
   "cell_type": "code",
   "execution_count": null,
   "id": "80499b7d-1872-431e-98be-689a6dc5a4fb",
   "metadata": {},
   "outputs": [],
   "source": [
    "df2 = pd.read_csv('new_data.csv')\n",
    "df2 = df2.dropna(subset=['image_url'])"
   ]
  },
  {
   "cell_type": "code",
   "execution_count": null,
   "id": "bc67640d-c36f-40ca-a958-7a24549f29c3",
   "metadata": {},
   "outputs": [],
   "source": [
    "df2['photo_id'] = df2['image_url'].apply(lambda x: Path(x).parent.name).astype(int)"
   ]
  },
  {
   "cell_type": "code",
   "execution_count": null,
   "id": "8d16c852-9997-4b2e-bc20-39ff94cc8a79",
   "metadata": {},
   "outputs": [],
   "source": [
    "matches = df2[df2['photo_id'].isin(photo_ids)]"
   ]
  },
  {
   "cell_type": "code",
   "execution_count": null,
   "id": "f6a5233d-210a-41f1-9cfd-72846fc1dd7f",
   "metadata": {},
   "outputs": [],
   "source": [
    "len(df2), len(matches)"
   ]
  },
  {
   "cell_type": "code",
   "execution_count": null,
   "id": "17198afe-716f-4173-bf34-e80168fb9e2c",
   "metadata": {},
   "outputs": [],
   "source": [
    "images = glob('new_images/*')\n",
    "images_files_ids = [int(Path(x).stem) for x in images]\n",
    "len(images_files_ids)\n",
    "_photo_ids = matches['photo_id'].tolist()"
   ]
  },
  {
   "cell_type": "code",
   "execution_count": null,
   "id": "82fdef52-538f-4781-8600-caa34f00922c",
   "metadata": {},
   "outputs": [],
   "source": [
    "_photo_ids_set = set(_photo_ids)\n",
    "images_to_move = [x for x in images if int(Path(x).stem) not in _photo_ids_set]\n",
    "len(images_to_move)"
   ]
  },
  {
   "cell_type": "code",
   "execution_count": null,
   "id": "806baafc-5ae8-46e9-be51-634bf806c1ac",
   "metadata": {},
   "outputs": [],
   "source": [
    "for x in images_to_move:\n",
    "    shutil.move(x, 'no_match')"
   ]
  },
  {
   "cell_type": "code",
   "execution_count": null,
   "id": "72886a4b-3626-4a42-abfd-7f4e7e86ebaf",
   "metadata": {},
   "outputs": [],
   "source": []
  }
 ],
 "metadata": {
  "kernelspec": {
   "display_name": "Python 3 (ipykernel)",
   "language": "python",
   "name": "python3"
  },
  "language_info": {
   "codemirror_mode": {
    "name": "ipython",
    "version": 3
   },
   "file_extension": ".py",
   "mimetype": "text/x-python",
   "name": "python",
   "nbconvert_exporter": "python",
   "pygments_lexer": "ipython3",
   "version": "3.12.8"
  }
 },
 "nbformat": 4,
 "nbformat_minor": 5
}
