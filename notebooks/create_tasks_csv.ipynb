{
 "cells": [
  {
   "cell_type": "code",
   "execution_count": null,
   "id": "af547e46-78bf-4dcd-aaf6-40050a7f68b8",
   "metadata": {},
   "outputs": [],
   "source": [
    "import json\n",
    "import pandas as pd\n",
    "from glob import glob\n",
    "from pathlib import Path"
   ]
  },
  {
   "cell_type": "code",
   "execution_count": null,
   "id": "f727c1ae-fd22-43d7-a941-61237e74937f",
   "metadata": {},
   "outputs": [],
   "source": [
    "# with open('project-5-at-2024-04-30-19-20-g082UDlc.json') as j:\n",
    "#     data = json.load(j)"
   ]
  },
  {
   "cell_type": "code",
   "execution_count": null,
   "id": "d709c6c3-b6d7-4d85-a537-d9f02dd35d68",
   "metadata": {},
   "outputs": [],
   "source": [
    "df = pd.read_parquet('iNat data 14-Feb-24.parquet')"
   ]
  },
  {
   "cell_type": "code",
   "execution_count": null,
   "id": "54b79841-131b-48b9-ac13-08dd87422ff5",
   "metadata": {},
   "outputs": [],
   "source": [
    "# names = list(set([x['scientific_name'] for x in data]))\n",
    "# len(names)"
   ]
  },
  {
   "cell_type": "code",
   "execution_count": null,
   "id": "eddf3fa5-56f1-48c9-9156-65f9076d6eae",
   "metadata": {},
   "outputs": [],
   "source": [
    "# df['scientific_name']"
   ]
  },
  {
   "cell_type": "code",
   "execution_count": null,
   "id": "80238419-0e79-46a2-9e74-ea89f02e54ae",
   "metadata": {},
   "outputs": [],
   "source": [
    "# df = df[~df['scientific_name'].isin(names)]\n",
    "# df"
   ]
  },
  {
   "cell_type": "code",
   "execution_count": null,
   "id": "f5299ace-16da-4b64-9fa9-6ad959950126",
   "metadata": {},
   "outputs": [],
   "source": [
    "# columns_to_check = ['tracks', 'scat', 'bone', 'dead']\n",
    "# df = df[df[columns_to_check].isnull().all(axis=1)]\n",
    "# df"
   ]
  },
  {
   "cell_type": "code",
   "execution_count": null,
   "id": "52fe7409-6989-4c84-b1fc-362dea162dad",
   "metadata": {},
   "outputs": [],
   "source": [
    "check_images = glob('dataset_by_classes/tracks/check/*')\n",
    "check_images += glob('dataset_by_classes/tracks/check_2/*')\n",
    "len(check_images)"
   ]
  },
  {
   "cell_type": "code",
   "execution_count": null,
   "id": "659a623b-0221-4ab0-8489-61b561e61621",
   "metadata": {},
   "outputs": [],
   "source": [
    "df = df.dropna(subset=['image_url'])\n",
    "df['image_name'] = df['image_url'].apply(lambda x: Path(x).parent.name)\n"
   ]
  },
  {
   "cell_type": "code",
   "execution_count": null,
   "id": "ef6accf6-54a2-4854-a539-9d34cd8c3c0c",
   "metadata": {
    "jupyter": {
     "outputs_hidden": true
    }
   },
   "outputs": [],
   "source": [
    "check_images_names"
   ]
  },
  {
   "cell_type": "code",
   "execution_count": null,
   "id": "caad1db6-c048-40da-85d9-d6e001807797",
   "metadata": {},
   "outputs": [],
   "source": [
    "check_images_names = [Path(x).stem for x in check_images]"
   ]
  },
  {
   "cell_type": "code",
   "execution_count": null,
   "id": "2b652cf5-ff1d-4682-9bfb-f81d61d48ab5",
   "metadata": {},
   "outputs": [],
   "source": [
    "len(check_images_names)"
   ]
  },
  {
   "cell_type": "code",
   "execution_count": null,
   "id": "e06364f4-1d53-4386-b3e6-2bb8a69b5827",
   "metadata": {},
   "outputs": [],
   "source": [
    "df = df[df['image_name'].isin(check_images_names)]\n",
    "len(df)"
   ]
  },
  {
   "cell_type": "code",
   "execution_count": null,
   "id": "acfb7a08-a669-4342-bc1b-abb7b5794bdd",
   "metadata": {},
   "outputs": [],
   "source": [
    "# df = df[~df['scientific_name'].isin(names)]"
   ]
  },
  {
   "cell_type": "code",
   "execution_count": null,
   "id": "9bd6a6a8-7924-43d7-9c7b-491877bd08d8",
   "metadata": {},
   "outputs": [],
   "source": [
    "df['image'] = df['image_url'].str.replace('medium', 'original')\n",
    "df = df.dropna(subset=['image'])\n",
    "df = df[~df['image'].str.contains('static')]\n",
    "df['observation_url'] = df['url']"
   ]
  },
  {
   "cell_type": "code",
   "execution_count": null,
   "id": "20450891-3ebb-48a6-9eea-b1d059567634",
   "metadata": {},
   "outputs": [],
   "source": [
    "final_df = df[['image', 'id', 'scientific_name', 'observation_url']]\n",
    "final_df"
   ]
  },
  {
   "cell_type": "code",
   "execution_count": null,
   "id": "4190878d-81bf-4713-9ed3-87a864902ba2",
   "metadata": {},
   "outputs": [],
   "source": [
    "final_df.to_csv('import_tasks_04312024.csv', index=False)"
   ]
  },
  {
   "cell_type": "code",
   "execution_count": null,
   "id": "842eb428-0353-40d9-a80f-e79d863873c1",
   "metadata": {},
   "outputs": [],
   "source": [
    "len(final_df['image'])"
   ]
  },
  {
   "cell_type": "code",
   "execution_count": null,
   "id": "50aa1aa0-e1e7-4a62-a6b0-df792b6b5ede",
   "metadata": {},
   "outputs": [],
   "source": []
  }
 ],
 "metadata": {
  "kernelspec": {
   "display_name": "Python 3 (ipykernel)",
   "language": "python",
   "name": "python3"
  },
  "language_info": {
   "codemirror_mode": {
    "name": "ipython",
    "version": 3
   },
   "file_extension": ".py",
   "mimetype": "text/x-python",
   "name": "python",
   "nbconvert_exporter": "python",
   "pygments_lexer": "ipython3",
   "version": "3.12.8"
  }
 },
 "nbformat": 4,
 "nbformat_minor": 5
}
