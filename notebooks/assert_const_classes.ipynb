{
 "cells": [
  {
   "cell_type": "code",
   "execution_count": null,
   "id": "d640d1b3-d159-4340-8326-118512442138",
   "metadata": {},
   "outputs": [],
   "source": [
    "import shutil\n",
    "from glob import glob\n",
    "from pathlib import Path\n",
    "\n",
    "from tqdm import tqdm\n",
    "from ultralytics import YOLO"
   ]
  },
  {
   "cell_type": "code",
   "execution_count": null,
   "id": "e2cf3907-ebaa-4957-bcd5-5a97b737e7ce",
   "metadata": {},
   "outputs": [],
   "source": [
    "cls_name = 'tracks' # <<<<<<< INPUT\n",
    "cls_images = glob(f'dataset_by_classes/{cls_name}/*')\n",
    "\n",
    "Path(f'dataset_by_classes/{cls_name}/check').mkdir(exist_ok=True)"
   ]
  },
  {
   "cell_type": "code",
   "execution_count": null,
   "id": "5f20d39d-3cca-4f7b-9c0f-e2321eb63467",
   "metadata": {},
   "outputs": [],
   "source": [
    "cls_images = [x for x in cls_images if Path(x).is_file()]"
   ]
  },
  {
   "cell_type": "code",
   "execution_count": null,
   "id": "deb1a786-3ce5-48ec-882e-9b5ec2e4f06d",
   "metadata": {},
   "outputs": [],
   "source": [
    "model = YOLO('AiNaturalisType/signs-yolov8xv5/weights/best.pt')  # signs only\n",
    "# model = YOLO('/home/biodiv/AiNaturalisType/ainatype-yolov8x/weights/best.pt')\n",
    "model.names"
   ]
  },
  {
   "cell_type": "code",
   "execution_count": null,
   "id": "f55ba3b8-87f4-49f2-9a47-1523cb5b8a2f",
   "metadata": {},
   "outputs": [],
   "source": [
    "class_idx = [x for x, y in model.names.items() if y == cls_name][0]"
   ]
  },
  {
   "cell_type": "code",
   "execution_count": null,
   "id": "0a09e4a6-a28a-40f3-8da5-2bf97512055b",
   "metadata": {
    "editable": true,
    "slideshow": {
     "slide_type": ""
    },
    "tags": []
   },
   "outputs": [],
   "source": [
    "assert model.names[class_idx] == cls_name\n",
    "\n",
    "to_move = []\n",
    "\n",
    "for image in tqdm(cls_images):\n",
    "    r = model(image, verbose=False)[0].probs\n",
    "    if r.top1 != class_idx or r.top1conf.tolist() < 0.99:\n",
    "        to_move.append(image)\n",
    "        # shutil.move(image, f'dataset_by_classes/{cls_name}/check')"
   ]
  },
  {
   "cell_type": "code",
   "execution_count": null,
   "id": "d2751a4f-7d17-44f0-b665-0f1bc187f0ef",
   "metadata": {},
   "outputs": [],
   "source": [
    "len(to_move)"
   ]
  },
  {
   "cell_type": "code",
   "execution_count": null,
   "id": "9df1014e-a789-439c-a1c0-505e2f5d77c8",
   "metadata": {},
   "outputs": [],
   "source": [
    "for image in to_move:\n",
    "    shutil.move(image, f'dataset_by_classes/{cls_name}/check')"
   ]
  },
  {
   "cell_type": "code",
   "execution_count": null,
   "id": "71886c89-b0f9-4244-8577-9e4d390c8bdc",
   "metadata": {},
   "outputs": [],
   "source": []
  }
 ],
 "metadata": {
  "kernelspec": {
   "display_name": "Python 3 (ipykernel)",
   "language": "python",
   "name": "python3"
  },
  "language_info": {
   "codemirror_mode": {
    "name": "ipython",
    "version": 3
   },
   "file_extension": ".py",
   "mimetype": "text/x-python",
   "name": "python",
   "nbconvert_exporter": "python",
   "pygments_lexer": "ipython3",
   "version": "3.10.13"
  }
 },
 "nbformat": 4,
 "nbformat_minor": 5
}
