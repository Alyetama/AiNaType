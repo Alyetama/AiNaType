{
 "cells": [
  {
   "cell_type": "code",
   "execution_count": null,
   "id": "527156ff-8f22-4bea-bef1-f84a0ddbcb42",
   "metadata": {},
   "outputs": [],
   "source": [
    "from glob import glob\n",
    "from pathlib import Path\n",
    "\n",
    "import cv2\n",
    "import numpy as np\n",
    "from tqdm import tqdm"
   ]
  },
  {
   "cell_type": "code",
   "execution_count": null,
   "id": "80d15e91-e606-4077-85f9-c558ac400ec0",
   "metadata": {},
   "outputs": [],
   "source": [
    "npy_images = glob('/home/biodiv/project-5-images/*/*/*.npy')\n",
    "len(npy_images)"
   ]
  },
  {
   "cell_type": "code",
   "execution_count": null,
   "id": "02fb47af-be93-4c1a-9ad2-bf372cc84bfd",
   "metadata": {},
   "outputs": [],
   "source": [
    "\n",
    "for image_path in tqdm(npy_images):\n",
    "    image_array = np.load(image_path)\n",
    "    image_array_uint8 = np.uint8(image_array)\n",
    "    image_bgr = cv2.cvtColor(image_array_uint8, cv2.COLOR_RGB2BGR)\n",
    "    out_path = image_path.replace('.npy', '.jpg')\n",
    "    cv2.imwrite(out_path, image_bgr)\n",
    "    Path(image_path).unlink()"
   ]
  }
 ],
 "metadata": {
  "kernelspec": {
   "display_name": "Python 3 (ipykernel)",
   "language": "python",
   "name": "python3"
  },
  "language_info": {
   "codemirror_mode": {
    "name": "ipython",
    "version": 3
   },
   "file_extension": ".py",
   "mimetype": "text/x-python",
   "name": "python",
   "nbconvert_exporter": "python",
   "pygments_lexer": "ipython3",
   "version": "3.10.13"
  }
 },
 "nbformat": 4,
 "nbformat_minor": 5
}
