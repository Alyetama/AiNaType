{
 "cells": [
  {
   "cell_type": "code",
   "execution_count": null,
   "id": "d640d1b3-d159-4340-8326-118512442138",
   "metadata": {},
   "outputs": [],
   "source": [
    "from glob import glob\n",
    "from pathlib import Path\n",
    "from ultralytics import YOLO\n",
    "import shutil\n",
    "from tqdm import tqdm"
   ]
  },
  {
   "cell_type": "code",
   "execution_count": null,
   "id": "e2cf3907-ebaa-4957-bcd5-5a97b737e7ce",
   "metadata": {},
   "outputs": [],
   "source": [
    "cls_name = 'dead' # <<<<<<< INPUT\n",
    "cls_images = glob(f'dataset_by_classes/{cls_name}/*')\n",
    "\n",
    "Path(f'dataset_by_classes/{cls_name}/check').mkdir(exist_ok=True)"
   ]
  },
  {
   "cell_type": "code",
   "execution_count": null,
   "id": "5f20d39d-3cca-4f7b-9c0f-e2321eb63467",
   "metadata": {},
   "outputs": [],
   "source": [
    "scat = [x for x in cls_images if Path(x).is_file()]"
   ]
  },
  {
   "cell_type": "code",
   "execution_count": null,
   "id": "deb1a786-3ce5-48ec-882e-9b5ec2e4f06d",
   "metadata": {},
   "outputs": [],
   "source": [
    "# model = YOLO('AiNaturalisType/ainatype-yolov8x/weights/best.pt')  # signs only\n",
    "model = YOLO('/home/biodiv/AiNaturalisType/ainatype-yolov8x/weights/best.pt')\n",
    "model.names"
   ]
  },
  {
   "cell_type": "code",
   "execution_count": null,
   "id": "0a09e4a6-a28a-40f3-8da5-2bf97512055b",
   "metadata": {
    "editable": true,
    "slideshow": {
     "slide_type": ""
    },
    "tags": []
   },
   "outputs": [],
   "source": [
    "class_idx = 0 # <<<<<<< INPUT\n",
    "\n",
    "assert model.names[class_idx] == cls_name\n",
    "\n",
    "for image in tqdm(cls_images):\n",
    "    if model(image)[0].probs.top1 != class_idx:\n",
    "        shutil.move(image, f'dataset_by_classes/{cls_name}/check')"
   ]
  },
  {
   "cell_type": "code",
   "execution_count": null,
   "id": "d2751a4f-7d17-44f0-b665-0f1bc187f0ef",
   "metadata": {},
   "outputs": [],
   "source": []
  }
 ],
 "metadata": {
  "kernelspec": {
   "display_name": "Python 3 (ipykernel)",
   "language": "python",
   "name": "python3"
  },
  "language_info": {
   "codemirror_mode": {
    "name": "ipython",
    "version": 3
   },
   "file_extension": ".py",
   "mimetype": "text/x-python",
   "name": "python",
   "nbconvert_exporter": "python",
   "pygments_lexer": "ipython3",
   "version": "3.10.13"
  }
 },
 "nbformat": 4,
 "nbformat_minor": 5
}
