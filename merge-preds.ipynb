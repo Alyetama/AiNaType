{
 "cells": [
  {
   "cell_type": "code",
   "execution_count": null,
   "id": "bc93474a-732c-46b5-9dd7-e4692a0a07ca",
   "metadata": {},
   "outputs": [],
   "source": [
    "import pandas as pd\n",
    "from pathlib import Path\n",
    "import sqlite3"
   ]
  },
  {
   "cell_type": "code",
   "execution_count": null,
   "id": "29bda6c3-098e-4cf2-946a-395a03bd9679",
   "metadata": {},
   "outputs": [],
   "source": [
    "conn = sqlite3.connect('ainatype_predictions.db')\n",
    "df = pd.read_sql('SELECT * FROM ainatype_detections', conn)"
   ]
  },
  {
   "cell_type": "code",
   "execution_count": null,
   "id": "16694b9f-891b-4149-a8b3-2d5c46023734",
   "metadata": {},
   "outputs": [],
   "source": [
    "df"
   ]
  },
  {
   "cell_type": "code",
   "execution_count": null,
   "id": "393a0ac7-8fe2-4c5b-a5b0-71f04bb726a1",
   "metadata": {},
   "outputs": [],
   "source": [
    "df2 = pd.read_parquet('iNat data 14-Feb-24.parquet')\n",
    "df2 = df2.dropna(subset=['image_url'])\n",
    "df2"
   ]
  },
  {
   "cell_type": "code",
   "execution_count": null,
   "id": "a50abec5-0ad6-4388-bbec-75288d05a259",
   "metadata": {},
   "outputs": [],
   "source": [
    "df2['image'] = df2['image_url'].apply(lambda x: Path(x).parent.name + Path(x).suffix)"
   ]
  },
  {
   "cell_type": "code",
   "execution_count": null,
   "id": "a5a35cb9-c72d-4c20-a2cc-1bf390837084",
   "metadata": {},
   "outputs": [],
   "source": [
    "merged_df = pd.merge(df, df2, on='image', how='inner')"
   ]
  },
  {
   "cell_type": "code",
   "execution_count": null,
   "id": "29324a05-343f-4720-bc65-4729fe34f914",
   "metadata": {},
   "outputs": [],
   "source": [
    "merged_df"
   ]
  },
  {
   "cell_type": "code",
   "execution_count": null,
   "id": "d31dad0a-4261-4e37-9e2a-7fc217e8ee78",
   "metadata": {},
   "outputs": [],
   "source": [
    "merged_df.to_csv('predictions-results-merged.csv', index=False)"
   ]
  }
 ],
 "metadata": {
  "kernelspec": {
   "display_name": "Python 3 (ipykernel)",
   "language": "python",
   "name": "python3"
  },
  "language_info": {
   "codemirror_mode": {
    "name": "ipython",
    "version": 3
   },
   "file_extension": ".py",
   "mimetype": "text/x-python",
   "name": "python",
   "nbconvert_exporter": "python",
   "pygments_lexer": "ipython3",
   "version": "3.10.13"
  }
 },
 "nbformat": 4,
 "nbformat_minor": 5
}
