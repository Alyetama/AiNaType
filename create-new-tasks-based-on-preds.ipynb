{
 "cells": [
  {
   "cell_type": "code",
   "execution_count": null,
   "id": "754a77be-0394-42b2-b762-b41a1e183073",
   "metadata": {},
   "outputs": [],
   "source": [
    "import json\n",
    "from pathlib import Path\n",
    "import pandas as pd"
   ]
  },
  {
   "cell_type": "code",
   "execution_count": null,
   "id": "0e1940f3-d71a-4e49-8869-71c6f185cd70",
   "metadata": {},
   "outputs": [],
   "source": [
    "df = pd.read_parquet('predictions-results-merged.parquet')"
   ]
  },
  {
   "cell_type": "code",
   "execution_count": null,
   "id": "a2699008-58ef-4efe-b868-20f91b79e3ac",
   "metadata": {},
   "outputs": [],
   "source": [
    "df = df[df['scat_conf'] >= 0.99]"
   ]
  },
  {
   "cell_type": "code",
   "execution_count": null,
   "id": "fe7b53bf-2365-41bf-b48b-83c272df1b0e",
   "metadata": {},
   "outputs": [],
   "source": [
    "with open('project-5-at-2024-06-28-16-37-EBGAkP07.json') as j:\n",
    "    data = json.load(j)"
   ]
  },
  {
   "cell_type": "code",
   "execution_count": null,
   "id": "cccf822d-fc44-4dc5-8af6-58e5eb84625f",
   "metadata": {},
   "outputs": [],
   "source": [
    "exclude_images = [Path(x['image']).parent.name + Path(x['image']).suffix for x in data]"
   ]
  },
  {
   "cell_type": "code",
   "execution_count": null,
   "id": "55a90d39-9085-41c3-82a1-40dab6199cf3",
   "metadata": {},
   "outputs": [],
   "source": [
    "print(len(df))\n",
    "df = df[~df['image'].isin(exclude_images)]\n",
    "len(df)"
   ]
  },
  {
   "cell_type": "code",
   "execution_count": null,
   "id": "e6a331b3-f0b2-4276-9d14-1af5d4c54ade",
   "metadata": {},
   "outputs": [],
   "source": [
    "df = df[['image_url', 'id', 'scientific_name', 'url']]"
   ]
  },
  {
   "cell_type": "code",
   "execution_count": null,
   "id": "b9fa77a9-dbb9-4b31-a959-a8dd632b33fc",
   "metadata": {},
   "outputs": [],
   "source": [
    "df.rename(columns={'image_url': 'image', 'url': 'observation_url'}, inplace=True)"
   ]
  },
  {
   "cell_type": "code",
   "execution_count": null,
   "id": "c7a082e7-0eb2-45b6-a92b-d8ee1be12e0e",
   "metadata": {},
   "outputs": [],
   "source": [
    "df['image'] = df['image'].str.replace('/medium', '/original')"
   ]
  },
  {
   "cell_type": "code",
   "execution_count": null,
   "id": "fe695cd4-0ac5-438e-a8f0-bfc885e83376",
   "metadata": {},
   "outputs": [],
   "source": [
    "df['image'].tolist()[0]"
   ]
  },
  {
   "cell_type": "code",
   "execution_count": null,
   "id": "1d3e4ddb-9ffe-4a8b-bca9-e8612300fdd6",
   "metadata": {},
   "outputs": [],
   "source": [
    "df = df.sample(frac=0.3).reset_index(drop=True)"
   ]
  },
  {
   "cell_type": "code",
   "execution_count": null,
   "id": "7e1ff0c0-65d7-4aa8-bafc-a63cb6ffb2f1",
   "metadata": {},
   "outputs": [],
   "source": [
    "df.to_csv('scat-images.csv', index=False)"
   ]
  },
  {
   "cell_type": "code",
   "execution_count": null,
   "id": "eaad8a04-34f2-45c4-b86f-0475254fcd79",
   "metadata": {},
   "outputs": [],
   "source": []
  }
 ],
 "metadata": {
  "kernelspec": {
   "display_name": "Python 3 (ipykernel)",
   "language": "python",
   "name": "python3"
  },
  "language_info": {
   "codemirror_mode": {
    "name": "ipython",
    "version": 3
   },
   "file_extension": ".py",
   "mimetype": "text/x-python",
   "name": "python",
   "nbconvert_exporter": "python",
   "pygments_lexer": "ipython3",
   "version": "3.11.9"
  }
 },
 "nbformat": 4,
 "nbformat_minor": 5
}
